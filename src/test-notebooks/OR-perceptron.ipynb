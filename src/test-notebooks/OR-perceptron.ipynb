{
 "cells": [
  {
   "cell_type": "markdown",
   "metadata": {},
   "source": [
    "# Perceptron"
   ]
  },
  {
   "cell_type": "code",
   "execution_count": 2,
   "metadata": {},
   "outputs": [],
   "source": [
    "import numpy as np"
   ]
  },
  {
   "cell_type": "markdown",
   "metadata": {},
   "source": [
    "### Simple Perceptron without Learning\n",
    "\n",
    "Definitions"
   ]
  },
  {
   "cell_type": "code",
   "execution_count": null,
   "metadata": {},
   "outputs": [],
   "source": [
    "# 4 different input vectors with the bias value at the beginning\n",
    "X = np.array([\n",
    "    [1, 0, 0],\n",
    "    [1, 0, 1],\n",
    "    [1, 1, 0],\n",
    "    [1, 1, 1]\n",
    "    ])\n",
    "\n",
    "# Groundtruth\n",
    "y = np.array([0, 1, 1, 1])\n",
    "\n",
    "init_weights = np.array([-1, 1, 1])\n",
    "\n",
    "def heaviside_activation_func(sum_value):\n",
    "    \"\"\"\n",
    "    Simple linear step function\n",
    "\n",
    "    Input: sum of weighted neurons multiplied by the input\n",
    "    Output: 0 or 1\n",
    "    \"\"\"\n",
    "    if sum_value >= 0:\n",
    "        return 1\n",
    "    else:\n",
    "        return 0\n",
    "\n",
    "def perceptron_calc(X, weights):\n",
    "    # calculate the inner product\n",
    "    scalar = np.dot(weights, X)\n",
    "\n",
    "    # apply activation function\n",
    "    scalar = heaviside_activation_func(scalar)\n",
    "\n",
    "    return scalar"
   ]
  },
  {
   "cell_type": "code",
   "execution_count": 15,
   "metadata": {},
   "outputs": [
    {
     "data": {
      "text/plain": [
       "np.int64(0)"
      ]
     },
     "execution_count": 15,
     "metadata": {},
     "output_type": "execute_result"
    }
   ],
   "source": [
    "absolute_error = 0\n",
    "\n",
    "for i, x in enumerate(X):\n",
    "    absolute_error += np.abs(y[i] - perceptron_calc(x, init_weights))\n",
    "\n",
    "absolute_error"
   ]
  },
  {
   "cell_type": "markdown",
   "metadata": {},
   "source": [
    "No Errors, because we choose the optimal weights for the bias, and the 2 neurons."
   ]
  },
  {
   "cell_type": "markdown",
   "metadata": {},
   "source": [
    "### Simple Perceptron **with** Learning"
   ]
  },
  {
   "cell_type": "code",
   "execution_count": null,
   "metadata": {},
   "outputs": [],
   "source": [
    "# 4 different input vectors with the bias value at the beginning\n",
    "X = np.array([\n",
    "    [1, 0, 0],\n",
    "    [1, 0, 1],\n",
    "    [1, 1, 0],\n",
    "    [1, 1, 1]\n",
    "    ])\n",
    "\n",
    "# Groundtruth\n",
    "y = np.array([0, 1, 1, 1])\n",
    "\n",
    "init_weights = np.random.randint(-3, 3, 3)"
   ]
  },
  {
   "cell_type": "code",
   "execution_count": null,
   "metadata": {},
   "outputs": [
    {
     "data": {
      "text/plain": [
       "array([ 0, -1,  2], dtype=int32)"
      ]
     },
     "execution_count": 18,
     "metadata": {},
     "output_type": "execute_result"
    }
   ],
   "source": [
    "def heaviside_activation_func(sum_value):\n",
    "    \"\"\"\n",
    "    Simple linear step function\n",
    "\n",
    "    Input: sum of weighted neurons multiplied by the input\n",
    "    Output: 0 or 1\n",
    "    \"\"\"\n",
    "    if sum_value >= 0:\n",
    "        return 1\n",
    "    else:\n",
    "        return 0\n",
    "\n",
    "def perceptron_calc(X, weights):\n",
    "    # calculate the inner product\n",
    "    scalar = np.dot(weights, X)\n",
    "\n",
    "    # apply activation function\n",
    "    scalar = heaviside_activation_func(scalar)\n",
    "\n",
    "    return scalar"
   ]
  },
  {
   "cell_type": "code",
   "execution_count": null,
   "metadata": {},
   "outputs": [],
   "source": [
    "absolute_error = 0\n",
    "\n",
    "for i, x in enumerate(X):\n",
    "    absolute_error += np.abs(y[i] - perceptron_calc(x, init_weights))\n",
    "\n",
    "absolute_error"
   ]
  }
 ],
 "metadata": {
  "kernelspec": {
   "display_name": "ann106",
   "language": "python",
   "name": "python3"
  },
  "language_info": {
   "codemirror_mode": {
    "name": "ipython",
    "version": 3
   },
   "file_extension": ".py",
   "mimetype": "text/x-python",
   "name": "python",
   "nbconvert_exporter": "python",
   "pygments_lexer": "ipython3",
   "version": "3.13.1"
  }
 },
 "nbformat": 4,
 "nbformat_minor": 2
}
