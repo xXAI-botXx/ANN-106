{
 "cells": [
  {
   "cell_type": "markdown",
   "metadata": {},
   "source": [
    "# Using **ANN106**"
   ]
  },
  {
   "cell_type": "code",
   "execution_count": 1,
   "metadata": {},
   "outputs": [],
   "source": [
    "import sys\n",
    "sys.path += [\"../\"]\n",
    "\n",
    "import numpy as np\n",
    "\n",
    "import ann106 as ann"
   ]
  },
  {
   "cell_type": "markdown",
   "metadata": {},
   "source": [
    "1. Create your own class"
   ]
  },
  {
   "cell_type": "code",
   "execution_count": 2,
   "metadata": {},
   "outputs": [],
   "source": [
    "class Perceptron(ann.base.ArtificialNeuralNetwork):\n",
    "    def __init__(self):\n",
    "        super().__init__()\n",
    "        self.prediction_elements_tuple = {\n",
    "            \"X\": True,\n",
    "            \"y\": False,\n",
    "            \"y_\": False,\n",
    "            \"error\": True\n",
    "        }\n",
    "        self.name = \"Perceptron\"\n",
    "        self.layers = [ann.base.Layer(2, 1, ann.activation_functions.heaviside)]\n",
    "\n",
    "    def update_weights(self, prediction_element):\n",
    "        # extract needed elements\n",
    "        cur_X, cur_prediction_error = prediction_element \n",
    "        cur_prediction_error = ann.loss_functions.get_total_loss(cur_prediction_error)\n",
    "        \n",
    "        delta_weights = cur_prediction_error*cur_X\n",
    "        self.layers[0].weights = self.layers[0].weights+delta_weights\n",
    "\n",
    "        self.layers[0].bias = self.layers[0].bias + (cur_prediction_error)\n",
    "\n",
    "    def loss_function(self, y, y_):\n",
    "        return {\"Sum Loss\":ann.loss_functions.sum_error(y, y_)} # y - y_\n",
    "\n",
    "    def eval(self, X, y):\n",
    "        absolute_error = 0\n",
    "\n",
    "        for i, x in enumerate(X):\n",
    "            absolute_error += np.abs(y[i] - self.forward(x))\n",
    "\n",
    "        return absolute_error"
   ]
  },
  {
   "cell_type": "code",
   "execution_count": 3,
   "metadata": {},
   "outputs": [
    {
     "name": "stdout",
     "output_type": "stream",
     "text": [
      "\n",
      "\n",
      "--------------------------------\n",
      "Training - 16:52 13.01.2025\n",
      "\n",
      "| epoch:     9 || step:       40 || ETA:  0:00:00 || total loss:    0.000 ||  Sum Loss:    0.000 |\n",
      "\n",
      "Total Progress: |##########|    Epoch Progress: |##########|\n",
      "\n",
      "\n",
      "\n",
      "Congratulations!!!🥳\n",
      "🚀 Your model 🚀 waits here for you:\n",
      "      -> './models\\Perceptron.pkl'\n"
     ]
    },
    {
     "data": {
      "text/plain": [
       "np.int64(0)"
      ]
     },
     "execution_count": 3,
     "metadata": {},
     "output_type": "execute_result"
    }
   ],
   "source": [
    "X = np.array([[0, 0], [0, 1], [1, 0], [1, 1]])\n",
    "\n",
    "and_labels = np.array([0, 0, 0, 1])\n",
    "or_labels = np.array([0, 1, 1, 1])\n",
    "xor_labels = np.array([0, 1, 1, 0])\n",
    "\n",
    "model = Perceptron()\n",
    "# model.add_layer(2, 1, ann.activation_functions.heaviside)\n",
    "model.train(X=X, y=or_labels, epochs=10, parallel_computing=False, print_ever_x_steps=2)\n",
    "model.eval(X=X, y=or_labels)"
   ]
  },
  {
   "cell_type": "code",
   "execution_count": 4,
   "metadata": {},
   "outputs": [
    {
     "name": "stdout",
     "output_type": "stream",
     "text": [
      "\n",
      "\n",
      "--------------------------------\n",
      "Training - 16:52 13.01.2025\n",
      "\n",
      "| epoch:     9 || step:       40 || ETA:  0:00:00 || total loss:    0.111 ||  Sum Loss:    0.111 |\n",
      "\n",
      "Total Progress: |##########|    Epoch Progress: |##########|\n",
      "\n",
      "\n",
      "\n",
      "Congratulations!!!🥳\n",
      "🚀 Your model 🚀 waits here for you:\n",
      "      -> './models\\Perceptron.pkl'\n"
     ]
    },
    {
     "data": {
      "text/plain": [
       "np.int64(2)"
      ]
     },
     "execution_count": 4,
     "metadata": {},
     "output_type": "execute_result"
    }
   ],
   "source": [
    "model = Perceptron()\n",
    "model.train(X=X, y=xor_labels, epochs=10, parallel_computing=False)\n",
    "model.eval(X=X, y=xor_labels)"
   ]
  },
  {
   "cell_type": "code",
   "execution_count": 5,
   "metadata": {},
   "outputs": [
    {
     "name": "stdout",
     "output_type": "stream",
     "text": [
      "\n",
      "\n",
      "--------------------------------\n",
      "Training - 16:52 13.01.2025\n",
      "\n",
      "| epoch:     9 || step:       40 || ETA:  0:00:00 || total loss:    0.000 ||  Sum Loss:    0.000 |\n",
      "\n",
      "Total Progress: |##########|    Epoch Progress: |##########|\n",
      "\n",
      "\n",
      "\n",
      "Congratulations!!!🥳\n",
      "🚀 Your model 🚀 waits here for you:\n",
      "      -> './models\\Perceptron.pkl'\n"
     ]
    },
    {
     "data": {
      "text/plain": [
       "np.int64(0)"
      ]
     },
     "execution_count": 5,
     "metadata": {},
     "output_type": "execute_result"
    }
   ],
   "source": [
    "model = Perceptron()\n",
    "model.train(X=X, y=and_labels, epochs=10, parallel_computing=False)\n",
    "model.eval(X=X, y=and_labels)"
   ]
  },
  {
   "cell_type": "markdown",
   "metadata": {},
   "source": [
    "Or use the predefined version"
   ]
  },
  {
   "cell_type": "code",
   "execution_count": 6,
   "metadata": {},
   "outputs": [
    {
     "data": {
      "text/plain": [
       "ann106.neural_networks.Perceptron"
      ]
     },
     "execution_count": 6,
     "metadata": {},
     "output_type": "execute_result"
    }
   ],
   "source": [
    "ann.neural_networks.Perceptron"
   ]
  },
  {
   "cell_type": "code",
   "execution_count": 13,
   "metadata": {},
   "outputs": [
    {
     "name": "stdout",
     "output_type": "stream",
     "text": [
      "\n",
      "\n",
      "--------------------------------\n",
      "Training - 16:52 13.01.2025\n",
      "\n",
      "| epoch:     9 || step:       40 || ETA:  0:00:00 || total loss:    0.000 ||  Sum Loss:    0.000 |\n",
      "\n",
      "Total Progress: |##########|    Epoch Progress: |##########|\n",
      "\n",
      "\n",
      "\n",
      "Congratulations!!!🥳\n",
      "🚀 Your model 🚀 waits here for you:\n",
      "      -> './models\\Perceptron.pkl'\n"
     ]
    },
    {
     "data": {
      "text/plain": [
       "np.int64(0)"
      ]
     },
     "execution_count": 13,
     "metadata": {},
     "output_type": "execute_result"
    }
   ],
   "source": [
    "model = ann.neural_networks.Perceptron()\n",
    "model.train(X=X, y=and_labels, epochs=10, parallel_computing=False)\n",
    "model.eval(X=X, y=and_labels)"
   ]
  },
  {
   "cell_type": "code",
   "execution_count": 14,
   "metadata": {},
   "outputs": [
    {
     "name": "stdout",
     "output_type": "stream",
     "text": [
      "[1.0, -1.0, 0.0, -1.0, 0.0, 0.0, 1.0, 0.0, 0.0, -1.0, 0.0, 0.0, 0.0, 1.0, -1.0, 0.0, 0.0, 0.0, 0.0, 0.0, 0.0, 0.0, 0.0, 0.0, 0.0, 0.0, 0.0, 0.0, 0.0, 0.0, 0.0, 0.0, 0.0, 0.0, 0.0, 0.0, 0.0, 0.0, 0.0, 0.0]\n"
     ]
    },
    {
     "data": {
      "image/png": "[encoded data removed]",
      "text/plain": [
       "<Figure size 800x500 with 1 Axes>"
      ]
     },
     "metadata": {},
     "output_type": "display_data"
    }
   ],
   "source": [
    "model.loss_plot(width=8, height=5, smoothing_size=1, should_show=True)"
   ]
  },
  {
   "cell_type": "code",
   "execution_count": 15,
   "metadata": {},
   "outputs": [
    {
     "data": {
      "text/plain": [
       "{'start-time': ['13.1.2025 16:52:21'],\n",
       " 'end-time': ['13.1.2025 16:52:21'],\n",
       " 'epochs': [9],\n",
       " 'total-steps': [40],\n",
       " 'batch-size': [1],\n",
       " 'all-errors': [{'Sum Loss': [1.0,\n",
       "    -1.0,\n",
       "    0.0,\n",
       "    -1.0,\n",
       "    0.0,\n",
       "    0.0,\n",
       "    1.0,\n",
       "    0.0,\n",
       "    0.0,\n",
       "    -1.0,\n",
       "    0.0,\n",
       "    0.0,\n",
       "    0.0,\n",
       "    1.0,\n",
       "    -1.0,\n",
       "    0.0,\n",
       "    0.0,\n",
       "    0.0,\n",
       "    0.0,\n",
       "    0.0,\n",
       "    0.0,\n",
       "    0.0,\n",
       "    0.0,\n",
       "    0.0,\n",
       "    0.0,\n",
       "    0.0,\n",
       "    0.0,\n",
       "    0.0,\n",
       "    0.0,\n",
       "    0.0,\n",
       "    0.0,\n",
       "    0.0,\n",
       "    0.0,\n",
       "    0.0,\n",
       "    0.0,\n",
       "    0.0,\n",
       "    0.0,\n",
       "    0.0,\n",
       "    0.0,\n",
       "    0.0]}]}"
      ]
     },
     "execution_count": 15,
     "metadata": {},
     "output_type": "execute_result"
    }
   ],
   "source": [
    "model.train_history"
   ]
  },
  {
   "cell_type": "markdown",
   "metadata": {},
   "source": [
    "### Using ANN106 with Scikit-Learn"
   ]
  },
  {
   "cell_type": "code",
   "execution_count": 10,
   "metadata": {},
   "outputs": [],
   "source": [
    "class Perceptron(ann.sklearn.base.ArtificialNeuralNetwork):\n",
    "    def __init__(self):\n",
    "        super().__init__()\n",
    "        self.prediction_elements_tuple = {\n",
    "            \"X\": True,\n",
    "            \"y\": False,\n",
    "            \"y_\": False,\n",
    "            \"error\": True\n",
    "        }\n",
    "        self.name = \"Perceptron\"\n",
    "        self.layers = [ann.base.Layer(2, 1, ann.activation_functions.heaviside)]\n",
    "\n",
    "    def update_weights(self, prediction_element):\n",
    "        # extract needed elements\n",
    "        cur_X, cur_prediction_error = prediction_element \n",
    "        cur_prediction_error = ann.loss_functions.get_total_loss(cur_prediction_error)\n",
    "        \n",
    "        delta_weights = cur_prediction_error*cur_X\n",
    "        self.layers[0].weights = self.layers[0].weights+delta_weights\n",
    "\n",
    "        self.layers[0].bias = self.layers[0].bias + (cur_prediction_error)\n",
    "\n",
    "    def loss_function(self, y, y_):\n",
    "        return {\"Sum Loss\":ann.loss_functions.sum_error(y, y_)} # y - y_\n",
    "\n",
    "    def eval(self, X, y):\n",
    "        absolute_error = 0\n",
    "\n",
    "        for i, x in enumerate(X):\n",
    "            absolute_error += np.abs(y[i] - self.forward(x))\n",
    "\n",
    "        return absolute_error"
   ]
  },
  {
   "cell_type": "code",
   "execution_count": 16,
   "metadata": {},
   "outputs": [
    {
     "name": "stdout",
     "output_type": "stream",
     "text": [
      "\n",
      "\n",
      "--------------------------------\n",
      "Training - 16:53 13.01.2025\n",
      "\n",
      "| epoch:     9 || step:       40 || ETA:  0:00:00 || total loss:    0.000 ||  Sum Loss:    0.000 |\n",
      "\n",
      "Total Progress: |##########|    Epoch Progress: |##########|\n",
      "\n",
      "\n",
      "\n",
      "Congratulations!!!🥳\n",
      "🚀 Your model 🚀 waits here for you:\n",
      "      -> './models\\Perceptron.pkl'\n"
     ]
    },
    {
     "data": {
      "text/plain": [
       "np.int64(0)"
      ]
     },
     "execution_count": 16,
     "metadata": {},
     "output_type": "execute_result"
    }
   ],
   "source": [
    "model = Perceptron()\n",
    "model.fit(X=X, y=and_labels, epochs=10, parallel_computing=False)\n",
    "model.eval(X=X, y=and_labels)"
   ]
  }
 ],
 "metadata": {
  "kernelspec": {
   "display_name": "ann106",
   "language": "python",
   "name": "python3"
  },
  "language_info": {
   "codemirror_mode": {
    "name": "ipython",
    "version": 3
   },
   "file_extension": ".py",
   "mimetype": "text/x-python",
   "name": "python",
   "nbconvert_exporter": "python",
   "pygments_lexer": "ipython3",
   "version": "3.13.1"
  }
 },
 "nbformat": 4,
 "nbformat_minor": 2
}
