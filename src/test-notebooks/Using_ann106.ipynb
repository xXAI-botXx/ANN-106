{
 "cells": [
  {
   "cell_type": "markdown",
   "metadata": {},
   "source": [
    "# Using **ANN106**"
   ]
  },
  {
   "cell_type": "code",
   "execution_count": 1,
   "metadata": {},
   "outputs": [],
   "source": [
    "import sys\n",
    "sys.path += [\"../\"]\n",
    "\n",
    "import numpy as np\n",
    "\n",
    "import ann106 as ann"
   ]
  },
  {
   "cell_type": "markdown",
   "metadata": {},
   "source": [
    "1. Create your own class"
   ]
  },
  {
   "cell_type": "code",
   "execution_count": 2,
   "metadata": {},
   "outputs": [],
   "source": [
    "class Perceptron(ann.base.Artificial_Neural_Network):\n",
    "    def __init__(self):\n",
    "        super().__init__()\n",
    "        self.prediction_elements_tuple = {\n",
    "            \"X\": True,\n",
    "            \"y\": False,\n",
    "            \"y_\": False,\n",
    "            \"error\": True\n",
    "        }\n",
    "        self.name = \"Perceptron\"\n",
    "        self.layers = [ann.base.Layer(2, 1, ann.activation_functions.heaviside)]\n",
    "\n",
    "    def update_weights(self, prediction_element):\n",
    "        # extract needed elements\n",
    "        cur_X, cur_prediction_error = prediction_element \n",
    "        \n",
    "        delta_weights = cur_prediction_error*cur_X\n",
    "        self.layers[0].weights = self.layers[0].weights+delta_weights\n",
    "\n",
    "        self.layers[0].bias = self.layers[0].bias + (cur_prediction_error)\n",
    "\n",
    "    def loss_function(self, y, y_):\n",
    "        return ann.loss_functions.sum_error(y, y_) # y - y_\n",
    "\n",
    "    def eval(self, X, y):\n",
    "        absolute_error = 0\n",
    "\n",
    "        for i, x in enumerate(X):\n",
    "            absolute_error += np.abs(y[i] - self.forward(x))\n",
    "\n",
    "        return absolute_error"
   ]
  },
  {
   "cell_type": "code",
   "execution_count": 3,
   "metadata": {},
   "outputs": [
    {
     "data": {
      "text/plain": [
       "np.int64(0)"
      ]
     },
     "execution_count": 3,
     "metadata": {},
     "output_type": "execute_result"
    }
   ],
   "source": [
    "X = np.array([[0, 0], [0, 1], [1, 0], [1, 1]])\n",
    "\n",
    "and_labels = np.array([0, 0, 0, 1])\n",
    "or_labels = np.array([0, 1, 1, 1])\n",
    "xor_labels = np.array([0, 1, 1, 0])\n",
    "\n",
    "model = Perceptron()\n",
    "# model.add_layer(2, 1, ann.activation_functions.heaviside)\n",
    "model.fit(X=X, y=or_labels, epochs=10, parallel_computing=False)\n",
    "model.eval(X=X, y=or_labels)"
   ]
  },
  {
   "cell_type": "code",
   "execution_count": 4,
   "metadata": {},
   "outputs": [
    {
     "data": {
      "text/plain": [
       "np.int64(3)"
      ]
     },
     "execution_count": 4,
     "metadata": {},
     "output_type": "execute_result"
    }
   ],
   "source": [
    "model = Perceptron()\n",
    "model.fit(X=X, y=xor_labels, epochs=10, parallel_computing=False)\n",
    "model.eval(X=X, y=xor_labels)"
   ]
  },
  {
   "cell_type": "code",
   "execution_count": 5,
   "metadata": {},
   "outputs": [
    {
     "data": {
      "text/plain": [
       "np.int64(0)"
      ]
     },
     "execution_count": 5,
     "metadata": {},
     "output_type": "execute_result"
    }
   ],
   "source": [
    "model = Perceptron()\n",
    "model.fit(X=X, y=and_labels, epochs=10, parallel_computing=False)\n",
    "model.eval(X=X, y=and_labels)"
   ]
  },
  {
   "cell_type": "markdown",
   "metadata": {},
   "source": [
    "Or use the predefined version"
   ]
  },
  {
   "cell_type": "code",
   "execution_count": 6,
   "metadata": {},
   "outputs": [
    {
     "data": {
      "text/plain": [
       "ann106.neural_networks.Perceptron"
      ]
     },
     "execution_count": 6,
     "metadata": {},
     "output_type": "execute_result"
    }
   ],
   "source": [
    "ann.neural_networks.Perceptron"
   ]
  },
  {
   "cell_type": "code",
   "execution_count": 7,
   "metadata": {},
   "outputs": [
    {
     "data": {
      "text/plain": [
       "np.int64(0)"
      ]
     },
     "execution_count": 7,
     "metadata": {},
     "output_type": "execute_result"
    }
   ],
   "source": [
    "model = ann.neural_networks.Perceptron()\n",
    "model.fit(X=X, y=and_labels, epochs=10, parallel_computing=False)\n",
    "model.eval(X=X, y=and_labels)"
   ]
  }
 ],
 "metadata": {
  "kernelspec": {
   "display_name": "ann106",
   "language": "python",
   "name": "python3"
  },
  "language_info": {
   "codemirror_mode": {
    "name": "ipython",
    "version": 3
   },
   "file_extension": ".py",
   "mimetype": "text/x-python",
   "name": "python",
   "nbconvert_exporter": "python",
   "pygments_lexer": "ipython3",
   "version": "3.13.1"
  }
 },
 "nbformat": 4,
 "nbformat_minor": 2
}
