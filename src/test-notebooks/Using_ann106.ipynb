{
 "cells": [
  {
   "cell_type": "markdown",
   "metadata": {},
   "source": [
    "# Using **ANN106**"
   ]
  },
  {
   "cell_type": "code",
   "execution_count": 1,
   "metadata": {},
   "outputs": [],
   "source": [
    "import sys\n",
    "sys.path += [\"../\"]\n",
    "\n",
    "import numpy as np\n",
    "\n",
    "import ann106 as ann"
   ]
  },
  {
   "cell_type": "markdown",
   "metadata": {},
   "source": [
    "1. Create your own class"
   ]
  },
  {
   "cell_type": "code",
   "execution_count": 2,
   "metadata": {},
   "outputs": [],
   "source": [
    "def my_step_function(sum_value):\n",
    "    return ann.activation_functions.step_function(sum_value, threshold=0.0, greater_equal_value=1.0, smaller_value=0.0)\n",
    "\n",
    "class Perceptron(ann.base.ArtificialNeuralNetwork):\n",
    "    def __init__(self):\n",
    "        super().__init__()\n",
    "        self.prediction_elements_tuple = {\n",
    "            \"X\": True,\n",
    "            \"y\": False,\n",
    "            \"y_\": False,\n",
    "            \"all_y_\": False,\n",
    "            \"error\": True\n",
    "        }\n",
    "        self.name = \"Perceptron\"\n",
    "        self.layers = [ann.base.Layer(2, 1, my_step_function)]\n",
    "\n",
    "    def update_weights(self, prediction_element):\n",
    "        # extract needed elements\n",
    "        cur_X, cur_prediction_error = prediction_element \n",
    "        cur_prediction_error = ann.loss_functions.get_total_loss(cur_prediction_error)\n",
    "        \n",
    "        delta_weights = cur_prediction_error*cur_X\n",
    "        self.layers[0].weights = self.layers[0].weights+delta_weights\n",
    "\n",
    "        self.layers[0].bias = self.layers[0].bias + (cur_prediction_error)\n",
    "\n",
    "    def loss_function(self, y, y_):\n",
    "        return {\"Sum Loss\":ann.loss_functions.sum_error(y, y_)} # y - y_\n",
    "\n",
    "    def predict(self, x):\n",
    "        return self.forward(x)"
   ]
  },
  {
   "cell_type": "code",
   "execution_count": 3,
   "metadata": {},
   "outputs": [
    {
     "name": "stdout",
     "output_type": "stream",
     "text": [
      "\n",
      "\n",
      "--------------------------------\n",
      "Training - 23:30 16.01.2025\n",
      "\n",
      "| epoch:     9 || step:       40 || ETA:  0:00:00 || total loss:    0.000 ||  Sum Loss:    0.000 |\n",
      "\n",
      "Total Progress: |##########|    Epoch Progress: |##########|\n",
      "\n",
      "\n",
      "\n",
      "Congratulations!!!🥳\n",
      "🚀 Your model 🚀 waits here for you:\n",
      "      -> './models\\Perceptron.pkl'\n"
     ]
    },
    {
     "data": {
      "text/plain": [
       "np.float64(0.0)"
      ]
     },
     "execution_count": 3,
     "metadata": {},
     "output_type": "execute_result"
    }
   ],
   "source": [
    "X = np.array([[0, 0], [0, 1], [1, 0], [1, 1]])\n",
    "\n",
    "and_labels = np.array([0, 0, 0, 1])\n",
    "or_labels = np.array([0, 1, 1, 1])\n",
    "xor_labels = np.array([0, 1, 1, 0])\n",
    "\n",
    "model = Perceptron()\n",
    "# model.add_layer(2, 1, ann.activation_functions.heaviside)\n",
    "model.train(X=X, y=or_labels, epochs=10, parallel_computing=False, print_ever_x_steps=2)\n",
    "model.eval(X=X, y=or_labels)"
   ]
  },
  {
   "cell_type": "code",
   "execution_count": 4,
   "metadata": {},
   "outputs": [
    {
     "name": "stdout",
     "output_type": "stream",
     "text": [
      "\n",
      "\n",
      "--------------------------------\n",
      "Training - 23:30 16.01.2025\n",
      "\n",
      "| epoch:     9 || step:       40 || ETA:  0:00:00 || total loss:   -0.111 ||  Sum Loss:   -0.111 |\n",
      "\n",
      "Total Progress: |##########|    Epoch Progress: |##########|\n",
      "\n",
      "\n",
      "\n",
      "Congratulations!!!🥳\n",
      "🚀 Your model 🚀 waits here for you:\n",
      "      -> './models\\Perceptron.pkl'\n"
     ]
    },
    {
     "data": {
      "text/plain": [
       "np.float64(2.0)"
      ]
     },
     "execution_count": 4,
     "metadata": {},
     "output_type": "execute_result"
    }
   ],
   "source": [
    "model = Perceptron()\n",
    "model.train(X=X, y=xor_labels, epochs=10, parallel_computing=False)\n",
    "model.eval(X=X, y=xor_labels)"
   ]
  },
  {
   "cell_type": "code",
   "execution_count": 5,
   "metadata": {},
   "outputs": [
    {
     "name": "stdout",
     "output_type": "stream",
     "text": [
      "\n",
      "\n",
      "--------------------------------\n",
      "Training - 23:30 16.01.2025\n",
      "\n",
      "| epoch:     9 || step:       40 || ETA:  0:00:00 || total loss:    0.000 ||  Sum Loss:    0.000 |\n",
      "\n",
      "Total Progress: |##########|    Epoch Progress: |##########|\n",
      "\n",
      "\n",
      "\n",
      "Congratulations!!!🥳\n",
      "🚀 Your model 🚀 waits here for you:\n",
      "      -> './models\\Perceptron.pkl'\n"
     ]
    },
    {
     "data": {
      "text/plain": [
       "np.float64(0.0)"
      ]
     },
     "execution_count": 5,
     "metadata": {},
     "output_type": "execute_result"
    }
   ],
   "source": [
    "model = Perceptron()\n",
    "model.train(X=X, y=and_labels, epochs=10, parallel_computing=False)\n",
    "model.eval(X=X, y=and_labels)"
   ]
  },
  {
   "cell_type": "markdown",
   "metadata": {},
   "source": [
    "Or use the predefined version"
   ]
  },
  {
   "cell_type": "code",
   "execution_count": 6,
   "metadata": {},
   "outputs": [
    {
     "data": {
      "text/plain": [
       "ann106.neural_networks.Perceptron"
      ]
     },
     "execution_count": 6,
     "metadata": {},
     "output_type": "execute_result"
    }
   ],
   "source": [
    "ann.neural_networks.Perceptron"
   ]
  },
  {
   "cell_type": "code",
   "execution_count": 7,
   "metadata": {},
   "outputs": [
    {
     "name": "stdout",
     "output_type": "stream",
     "text": [
      "\n",
      "\n",
      "--------------------------------\n",
      "Training - 23:30 16.01.2025\n",
      "\n",
      "| epoch:     9 || step:       40 || ETA:  0:00:00 || total loss:    0.000 ||  Sum Loss:    0.000 |\n",
      "\n",
      "Total Progress: |##########|    Epoch Progress: |##########|\n",
      "\n",
      "\n",
      "\n",
      "Congratulations!!!🥳\n",
      "🚀 Your model 🚀 waits here for you:\n",
      "      -> './models\\Perceptron.pkl'\n"
     ]
    },
    {
     "data": {
      "text/plain": [
       "np.float64(0.0)"
      ]
     },
     "execution_count": 7,
     "metadata": {},
     "output_type": "execute_result"
    }
   ],
   "source": [
    "model = ann.neural_networks.Perceptron()\n",
    "model.train(X=X, y=and_labels, epochs=10, parallel_computing=False)\n",
    "model.eval(X=X, y=and_labels)"
   ]
  },
  {
   "cell_type": "code",
   "execution_count": 8,
   "metadata": {},
   "outputs": [
    {
     "data": {
      "image/png": "[encoded data removed]",
      "text/plain": [
       "<Figure size 800x500 with 1 Axes>"
      ]
     },
     "metadata": {},
     "output_type": "display_data"
    }
   ],
   "source": [
    "model.loss_plot(width=8, height=5, smoothing_size=1, should_show=True)"
   ]
  },
  {
   "cell_type": "code",
   "execution_count": 9,
   "metadata": {},
   "outputs": [
    {
     "data": {
      "text/plain": [
       "{'start-time': ['16.1.2025 23:30:32'],\n",
       " 'end-time': ['16.1.2025 23:30:32'],\n",
       " 'epochs': [9],\n",
       " 'total-steps': [40],\n",
       " 'batch-size': [1],\n",
       " 'all-errors': [{'Sum Loss': [0.0,\n",
       "    -1.0,\n",
       "    1.0,\n",
       "    -1.0,\n",
       "    0.0,\n",
       "    0.0,\n",
       "    1.0,\n",
       "    0.0,\n",
       "    -1.0,\n",
       "    -1.0,\n",
       "    0.0,\n",
       "    1.0,\n",
       "    -1.0,\n",
       "    0.0,\n",
       "    0.0,\n",
       "    1.0,\n",
       "    0.0,\n",
       "    -1.0,\n",
       "    0.0,\n",
       "    0.0,\n",
       "    0.0,\n",
       "    0.0,\n",
       "    0.0,\n",
       "    0.0,\n",
       "    0.0,\n",
       "    0.0,\n",
       "    0.0,\n",
       "    0.0,\n",
       "    0.0,\n",
       "    0.0,\n",
       "    0.0,\n",
       "    0.0,\n",
       "    0.0,\n",
       "    0.0,\n",
       "    0.0,\n",
       "    0.0,\n",
       "    0.0,\n",
       "    0.0,\n",
       "    0.0,\n",
       "    0.0]}]}"
      ]
     },
     "execution_count": 9,
     "metadata": {},
     "output_type": "execute_result"
    }
   ],
   "source": [
    "model.train_history"
   ]
  }
 ],
 "metadata": {
  "kernelspec": {
   "display_name": "ann106",
   "language": "python",
   "name": "python3"
  },
  "language_info": {
   "codemirror_mode": {
    "name": "ipython",
    "version": 3
   },
   "file_extension": ".py",
   "mimetype": "text/x-python",
   "name": "python",
   "nbconvert_exporter": "python",
   "pygments_lexer": "ipython3",
   "version": "3.13.1"
  }
 },
 "nbformat": 4,
 "nbformat_minor": 2
}
